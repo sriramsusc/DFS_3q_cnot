{
 "cells": [
  {
   "cell_type": "code",
   "execution_count": 1,
   "id": "5cc7f8e8",
   "metadata": {},
   "outputs": [
    {
     "name": "stdout",
     "output_type": "stream",
     "text": [
      "dlopen sees libcudnn.so.9\n"
     ]
    },
    {
     "name": "stderr",
     "output_type": "stream",
     "text": [
      "/tmp/ipykernel_1842998/1010537180.py:3: DeprecationWarning: jax.lib.xla_bridge.get_backend is deprecated; use jax.extend.backend.get_backend.\n",
      "  print(\"JAX backend:\", jax.lib.xla_bridge.get_backend().platform)\n"
     ]
    },
    {
     "name": "stdout",
     "output_type": "stream",
     "text": [
      "JAX backend: gpu\n"
     ]
    }
   ],
   "source": [
    "import jax, jax.numpy as jnp, ctypes.util, pathlib, os, sys\n",
    "print(\"dlopen sees\", pathlib.Path(ctypes.util.find_library('cudnn')).name)\n",
    "print(\"JAX backend:\", jax.lib.xla_bridge.get_backend().platform)\n"
   ]
  },
  {
   "cell_type": "code",
   "execution_count": 2,
   "id": "54044e62",
   "metadata": {},
   "outputs": [
    {
     "name": "stdout",
     "output_type": "stream",
     "text": [
      "cuDNN loaded – version: 91001\n"
     ]
    }
   ],
   "source": [
    "import ctypes, os\n",
    "lib = ctypes.CDLL('libcudnn.so')\n",
    "print(\"cuDNN loaded – version:\",\n",
    "      lib.cudnnGetVersion() if hasattr(lib, 'cudnnGetVersion') else 'unknown')\n",
    "import jax, jax.numpy as jnp\n",
    "\n",
    "I = jnp.eye(2, dtype=complex)"
   ]
  }
 ],
 "metadata": {
  "kernelspec": {
   "display_name": ".venv",
   "language": "python",
   "name": "python3"
  },
  "language_info": {
   "codemirror_mode": {
    "name": "ipython",
    "version": 3
   },
   "file_extension": ".py",
   "mimetype": "text/x-python",
   "name": "python",
   "nbconvert_exporter": "python",
   "pygments_lexer": "ipython3",
   "version": "3.10.12"
  }
 },
 "nbformat": 4,
 "nbformat_minor": 5
}
